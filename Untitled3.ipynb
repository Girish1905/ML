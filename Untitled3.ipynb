{
  "nbformat": 4,
  "nbformat_minor": 0,
  "metadata": {
    "colab": {
      "provenance": [],
      "authorship_tag": "ABX9TyNzqGU2mFumQWFk96+3qo+f",
      "include_colab_link": true
    },
    "kernelspec": {
      "name": "python3",
      "display_name": "Python 3"
    },
    "language_info": {
      "name": "python"
    }
  },
  "cells": [
    {
      "cell_type": "markdown",
      "metadata": {
        "id": "view-in-github",
        "colab_type": "text"
      },
      "source": [
        "<a href=\"https://colab.research.google.com/github/Girish1905/ML/blob/Week4/Untitled3.ipynb\" target=\"_parent\"><img src=\"https://colab.research.google.com/assets/colab-badge.svg\" alt=\"Open In Colab\"/></a>"
      ]
    },
    {
      "cell_type": "code",
      "execution_count": null,
      "metadata": {
        "id": "DUQV0dDeS64V"
      },
      "outputs": [],
      "source": [
        "import numpy as np\n",
        "import tensorflow as tf\n",
        "from tensorflow.keras.models import Sequential\n",
        "from tensorflow.keras.layers import LSTM, Dense, Embedding, Dropout\n",
        "from tensorflow.keras.preprocessing.text import Tokenizer\n",
        "from tensorflow.keras.utils import pad_sequences\n",
        "from tensorflow.keras.utils import to_categorical\n",
        "\n",
        "text = \"\"\"\n",
        "Your dataset text goes here. This could be anything from a novel, news articles, etc.\n",
        "Make sure it's large enough to learn useful patterns for text generation.\n",
        "\"\"\"\n",
        "\n",
        "tokenizer = Tokenizer()\n",
        "tokenizer.fit_on_texts([text])\n",
        "\n",
        "sequences = tokenizer.texts_to_sequences([text])[0]\n",
        "\n",
        "sequence_length = 10\n",
        "X, y = [], []\n",
        "for i in range(sequence_length, len(sequences)):\n",
        "    X.append(sequences[i-sequence_length:i])\n",
        "    y.append(sequences[i])\n",
        "\n",
        "X = np.array(X)\n",
        "y = np.array(y)\n",
        "\n",
        "y = to_categorical(y, num_classes=len(tokenizer.word_index) + 1)\n",
        "\n",
        "X = pad_sequences(X, maxlen=sequence_length, padding='pre')\n",
        "\n",
        "vocab_size = len(tokenizer.word_index) + 1\n",
        "embedding_dim = 100\n",
        "\n",
        "model = Sequential()\n",
        "model.add(Embedding(input_dim=vocab_size, output_dim=embedding_dim, input_length=sequence_length))\n",
        "model.add(LSTM(128, return_sequences=False))\n",
        "model.add(Dropout(0.2))\n",
        "model.add(Dense(vocab_size, activation='softmax'))\n",
        "\n",
        "model.compile(loss='categorical_crossentropy', optimizer='adam', metrics=['accuracy'])\n",
        "model.summary()\n",
        "\n",
        "model.fit(X, y, epochs=30, batch_size=64)\n",
        "\n",
        "def generate_text(seed_text, next_words=50):\n",
        "    for _ in range(next_words):\n",
        "        tokenized_seed = tokenizer.texts_to_sequences([seed_text])\n",
        "        tokenized_seed = pad_sequences(tokenized_seed, maxlen=sequence_length, padding='pre')\n",
        "\n",
        "        predicted_probabilities = model.predict(tokenized_seed, verbose=0)\n",
        "        predicted_word_index = np.argmax(predicted_probabilities)\n",
        "\n",
        "        predicted_word = tokenizer.index_word[predicted_word_index]\n",
        "\n",
        "        seed_text += \" \" + predicted_word\n",
        "\n",
        "    return seed_text\n",
        "\n",
        "seed_text = \"Once upon a time\"\n",
        "generated_text = generate_text(seed_text, next_words=50)\n",
        "print(generated_text)\n",
        "\n",
        "def sample(predictions, temperature=1.0):\n",
        "    predictions = np.asarray(predictions).astype('float64')\n",
        "    predictions = np.log(predictions + 1e-7) / temperature\n",
        "    exp_preds = np.exp(predictions)\n",
        "    predictions = exp_preds / np.sum(exp_preds)\n",
        "    return np.random.choice(len(predictions), p=predictions)\n",
        "\n",
        "def generate_text_with_temperature(seed_text, next_words=50, temperature=1.0):\n",
        "    for _ in range(next_words):\n",
        "        tokenized_seed = tokenizer.texts_to_sequences([seed_text])\n",
        "        tokenized_seed = pad_sequences(tokenized_seed, maxlen=sequence_length, padding='pre')\n",
        "\n",
        "        predicted_probabilities = model.predict(tokenized_seed, verbose=0)[0]\n",
        "        predicted_word_index = sample(predicted_probabilities, temperature)\n",
        "\n",
        "        predicted_word = tokenizer.index_word.get(predicted_word_index, '')\n",
        "\n",
        "        if predicted_word == '':\n",
        "            break\n",
        "\n",
        "        seed_text += \" \" + predicted_word\n",
        "\n",
        "    return seed_text\n"
      ]
    }
  ]
}